{
 "cells": [
  {
   "cell_type": "markdown",
   "metadata": {},
   "source": [
    "# Shopify 2021 Intern Data Science Challenge\n",
    "## Question 1\n",
    "\n",
    "As we see the AOV is extremly high for shoes(usually people buy one or two shoes at the time), we first begin by looking at if there are shoes that are extremely expensive.\n"
   ]
  },
  {
   "cell_type": "code",
   "execution_count": 58,
   "metadata": {},
   "outputs": [
    {
     "name": "stdout",
     "output_type": "stream",
     "text": [
      "         order_amount  total_items  amount_per_item\n",
      "shop_id                                            \n",
      "78            2263800           88          25725.0\n",
      "42           11990176        34063            352.0\n",
      "12              18693           93            201.0\n",
      "89              23128          118            196.0\n",
      "99              18330           94            195.0\n",
      "...               ...          ...              ...\n",
      "53              14560          130            112.0\n",
      "100              8547           77            111.0\n",
      "32               7979           79            101.0\n",
      "2                9588          102             94.0\n",
      "92               6840           76             90.0\n",
      "\n",
      "[100 rows x 3 columns]\n"
     ]
    }
   ],
   "source": [
    "import pandas as pd\n",
    "holder = pd.read_csv('2019 Winter Data Science Intern Challenge Data Set - Sheet1.csv')\n",
    "data= holder\n",
    "data = data[[\"shop_id\",\"order_amount\", \"total_items\"]]\n",
    "data= data.groupby(\"shop_id\").sum()\n",
    "data[\"amount_per_item\"] = data[\"order_amount\"]/data[\"total_items\"]\n",
    "data = data.sort_values(by=['amount_per_item'], ascending=False)\n",
    "print(data)\n"
   ]
  },
  {
   "cell_type": "markdown",
   "metadata": {},
   "source": [
    "Interestingly enough, shop 78 seems to sell extremely expensive shoes, as each shoe cost 25 725$(One model per store)\n",
    "This definitively leads to an higher AOV as even one order of the shoes in this shop is the equivalent of 73 shoes in the next most expensive shoe store, shop #42. To continue, we look at if any huge orders skewed the data."
   ]
  },
  {
   "cell_type": "code",
   "execution_count": 64,
   "metadata": {},
   "outputs": [
    {
     "name": "stdout",
     "output_type": "stream",
     "text": [
      "      order_amount  user_id  total_items\n",
      "2153        704000      607         2000\n",
      "3332        704000      607         2000\n",
      "520         704000      607         2000\n",
      "1602        704000      607         2000\n",
      "60          704000      607         2000\n",
      "...            ...      ...          ...\n",
      "3871            90      818            1\n",
      "2503            90      935            1\n",
      "4414            90      927            1\n",
      "3363            90      730            1\n",
      "2092            90      986            1\n",
      "\n",
      "[5000 rows x 3 columns]\n"
     ]
    }
   ],
   "source": [
    "data = holder\n",
    "data = data[[\"order_amount\",\"user_id\",\"total_items\"]]\n",
    "data = data.sort_values(by=['order_amount'], ascending=False)\n",
    "print(data)"
   ]
  },
  {
   "cell_type": "markdown",
   "metadata": {},
   "source": [
    "We can already see how user 607 seems to be making huge orders at the time, this causes the AOV to skew upwards. \n",
    "As we can see, AOV is not a very useful statistics, as big orders and difference in price of each shoe can cause it to be non representative of the general sneaker shop situations."
   ]
  },
  {
   "cell_type": "code",
   "execution_count": null,
   "metadata": {},
   "outputs": [],
   "source": []
  }
 ],
 "metadata": {
  "kernelspec": {
   "display_name": "Python 3",
   "language": "python",
   "name": "python3"
  },
  "language_info": {
   "codemirror_mode": {
    "name": "ipython",
    "version": 3
   },
   "file_extension": ".py",
   "mimetype": "text/x-python",
   "name": "python",
   "nbconvert_exporter": "python",
   "pygments_lexer": "ipython3",
   "version": "3.7.6"
  }
 },
 "nbformat": 4,
 "nbformat_minor": 4
}
