{
 "cells": [
  {
   "cell_type": "markdown",
   "metadata": {},
   "source": [
    "# Shopify 2021 Intern Data Science Challenge\n",
    "## Question 1\n",
    "\n",
    "As we see the AOV is extremly high for shoes(usually people buy one or two shoes at the time), we first begin by looking at if there are shoes that are extremely expensive.\n"
   ]
  },
  {
   "cell_type": "code",
   "execution_count": 57,
   "metadata": {},
   "outputs": [
    {
     "name": "stdout",
     "output_type": "stream",
     "text": [
      "         order_amount  total_items  amount_per_item\n",
      "shop_id                                            \n",
      "78            2263800           88          25725.0\n",
      "42           11990176        34063            352.0\n",
      "12              18693           93            201.0\n",
      "89              23128          118            196.0\n",
      "99              18330           94            195.0\n",
      "...               ...          ...              ...\n",
      "53              14560          130            112.0\n",
      "100              8547           77            111.0\n",
      "32               7979           79            101.0\n",
      "2                9588          102             94.0\n",
      "92               6840           76             90.0\n",
      "\n",
      "[100 rows x 3 columns]\n"
     ]
    }
   ],
   "source": [
    "import pandas as pd\n",
    "data = pd.read_csv('2019 Winter Data Science Intern Challenge Data Set - Sheet1.csv')\n",
    "data = data[[\"shop_id\",\"order_amount\", \"total_items\"]]\n",
    "data= data.groupby(\"shop_id\").sum()\n",
    "data[\"amount_per_item\"] = data[\"order_amount\"]/data[\"total_items\"]\n",
    "data = data.sort_values(by=['amount_per_item'], ascending=False)\n",
    "print(data)\n"
   ]
  },
  {
   "cell_type": "markdown",
   "metadata": {},
   "source": [
    "Interestingly enough, shop 77 seems to sell extremely expensive shoes, as each shoe cost 25 725$(One model per store)\n",
    "This definitively leads to an higher AOV as even one order of the shoes in this shop is the equivalent of 73 shoes in the next most expensive shoe store, shop #42. To continue, we look at if any huge orders skewed the data."
   ]
  },
  {
   "cell_type": "code",
   "execution_count": null,
   "metadata": {},
   "outputs": [],
   "source": []
  }
 ],
 "metadata": {
  "kernelspec": {
   "display_name": "Python 3",
   "language": "python",
   "name": "python3"
  },
  "language_info": {
   "codemirror_mode": {
    "name": "ipython",
    "version": 3
   },
   "file_extension": ".py",
   "mimetype": "text/x-python",
   "name": "python",
   "nbconvert_exporter": "python",
   "pygments_lexer": "ipython3",
   "version": "3.7.6"
  }
 },
 "nbformat": 4,
 "nbformat_minor": 4
}
